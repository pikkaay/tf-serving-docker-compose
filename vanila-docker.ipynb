{
 "cells": [
  {
   "cell_type": "code",
   "execution_count": null,
   "metadata": {},
   "outputs": [],
   "source": [
    "import numpy as np\n",
    "import time\n",
    "import tensorflow\n",
    "from tensorflow.keras.applications.efficientnet import EfficientNetB3, preprocess_input\n",
    "from tensorflow.keras.models import Model\n",
    "from tensorflow.keras.layers import Input\n",
    "from tensorflow.keras.layers import GlobalAveragePooling2D\n",
    "tensorflow.__version__"
   ]
  },
  {
   "cell_type": "code",
   "execution_count": 21,
   "metadata": {},
   "outputs": [],
   "source": [
    "base_model = EfficientNetB3(include_top=False,\n",
    "                            weights='imagenet',\n",
    "                            input_tensor=Input(shape=(300, 300, 3)))\n",
    "x = base_model.output\n",
    "x = GlobalAveragePooling2D()(x)\n",
    "model = Model(inputs=base_model.input, outputs=x)"
   ]
  },
  {
   "cell_type": "code",
   "execution_count": 1,
   "metadata": {},
   "outputs": [],
   "source": [
    "# model save using keras; IMPORTANT to specify version number (in this case time.time())\n",
    "model_save_path = './img_cls/{}'.format(int(time.time()))\n",
    "print(model_save_path)\n",
    "model.save(model_save_path, save_format='tf')"
   ]
  },
  {
   "cell_type": "code",
   "execution_count": 28,
   "metadata": {},
   "outputs": [],
   "source": [
    "# alternate way of saving using tf saved_model method\n",
    "# model_save_path = './img_cls/{}'.format(int(time.time()))\n",
    "# print(model_save_path)\n",
    "# tensorflow.saved_model.save(model, model_save_path)"
   ]
  },
  {
   "cell_type": "code",
   "execution_count": null,
   "metadata": {},
   "outputs": [],
   "source": []
  },
  {
   "cell_type": "code",
   "execution_count": 4,
   "metadata": {},
   "outputs": [],
   "source": [
    "'''\n",
    "# This is to test if your model works with vanila docker\n",
    "# absolute path is a must while binding volume\n",
    "\n",
    "docker run -p 8501:8501 --name tfs1 \\\n",
    "--mount type=bind,source=/home/ubuntu/Documents/jbs/examples/misc/embeddings_server/img_cls/,target=/models/img_cls \\\n",
    "-e MODEL_NAME=img_cls -t tensorflow/serving\n",
    "\n",
    "\n",
    "Usefull commands\n",
    "docker restart tfs1\n",
    "docker stop tfs1\n",
    "docker start tfs1\n",
    "docker rm tfs1\n",
    "'''"
   ]
  },
  {
   "cell_type": "code",
   "execution_count": 26,
   "metadata": {},
   "outputs": [
    {
     "name": "stdout",
     "output_type": "stream",
     "text": [
      "tfs1\r\n"
     ]
    }
   ],
   "source": [
    "!docker restart tfs1"
   ]
  },
  {
   "cell_type": "code",
   "execution_count": null,
   "metadata": {},
   "outputs": [],
   "source": [
    "# test api"
   ]
  },
  {
   "cell_type": "code",
   "execution_count": 9,
   "metadata": {},
   "outputs": [],
   "source": [
    "import matplotlib.pyplot as plt\n",
    "import requests\n",
    "import base64\n",
    "import json\n",
    "import numpy as np"
   ]
  },
  {
   "cell_type": "code",
   "execution_count": 29,
   "metadata": {},
   "outputs": [
    {
     "data": {
      "text/plain": [
       "(1, 30, 30, 3)"
      ]
     },
     "execution_count": 29,
     "metadata": {},
     "output_type": "execute_result"
    }
   ],
   "source": [
    "img = np.random.random((1, 30,30,3))\n",
    "img.shape"
   ]
  },
  {
   "cell_type": "code",
   "execution_count": 30,
   "metadata": {},
   "outputs": [
    {
     "name": "stdout",
     "output_type": "stream",
     "text": [
      "WARNING:tensorflow:Model was constructed with shape (None, 300, 300, 3) for input Tensor(\"input_1:0\", shape=(None, 300, 300, 3), dtype=float32), but it was called on an input with incompatible shape (None, 30, 30, 3).\n",
      "CPU times: user 2.41 s, sys: 120 ms, total: 2.53 s\n",
      "Wall time: 4.37 s\n"
     ]
    }
   ],
   "source": [
    "%%time\n",
    "preds = model.predict(img)"
   ]
  },
  {
   "cell_type": "code",
   "execution_count": 31,
   "metadata": {},
   "outputs": [
    {
     "data": {
      "text/plain": [
       "(1, 1536)"
      ]
     },
     "execution_count": 31,
     "metadata": {},
     "output_type": "execute_result"
    }
   ],
   "source": [
    "preds.shape"
   ]
  },
  {
   "cell_type": "code",
   "execution_count": 32,
   "metadata": {},
   "outputs": [
    {
     "name": "stdout",
     "output_type": "stream",
     "text": [
      "CPU times: user 608 µs, sys: 11 µs, total: 619 µs\n",
      "Wall time: 628 µs\n"
     ]
    }
   ],
   "source": [
    "%%time\n"
   ]
  },
  {
   "cell_type": "code",
   "execution_count": 56,
   "metadata": {},
   "outputs": [
    {
     "name": "stdout",
     "output_type": "stream",
     "text": [
      "CPU times: user 4.61 ms, sys: 3.9 ms, total: 8.52 ms\n",
      "Wall time: 18.3 ms\n"
     ]
    },
    {
     "data": {
      "text/plain": [
       "array([[-0.08056594, -0.1896586 , -0.07315277, ..., -0.2767792 ,\n",
       "        -0.22485656,  0.1715697 ]])"
      ]
     },
     "execution_count": 56,
     "metadata": {},
     "output_type": "execute_result"
    }
   ],
   "source": [
    "%%time\n",
    "imlst = img.tolist()\n",
    "url = 'http://localhost:8501/v1/models/img_cls:predict'\n",
    "data = json.dumps({\"signature_name\": \"serving_default\", \"instances\":imlst})\n",
    "headers = {\"content-type\": \"application/json\"}\n",
    "json_response = requests.post(url, data=data, headers=headers)\n",
    "out = np.array((json.loads(json_response.text)['predictions']))\n",
    "out"
   ]
  },
  {
   "cell_type": "code",
   "execution_count": 57,
   "metadata": {},
   "outputs": [],
   "source": [
    "# test"
   ]
  },
  {
   "cell_type": "code",
   "execution_count": 45,
   "metadata": {},
   "outputs": [],
   "source": [
    "img = np.random.random((1, 30,30,3))\n",
    "imlst = img.tolist()\n",
    "url = 'http://localhost:8501/v1/models/img_cls:predict'"
   ]
  },
  {
   "cell_type": "code",
   "execution_count": 51,
   "metadata": {
    "scrolled": false
   },
   "outputs": [
    {
     "name": "stdout",
     "output_type": "stream",
     "text": [
      "[[-0.08012704 -0.19066724 -0.07158289 ... -0.27662969 -0.2239328\n",
      "   0.16618751]]\n",
      "[[-0.08012704 -0.19066724 -0.07158289 ... -0.27662969 -0.2239328\n",
      "   0.16618751]]\n",
      "CPU times: user 5.71 ms, sys: 4.03 ms, total: 9.74 ms\n",
      "Wall time: 30 ms\n"
     ]
    }
   ],
   "source": [
    "%%time\n",
    "for _ in range(2):\n",
    "    json_response = requests.post(url, data=data, headers=headers)\n",
    "    out = np.array((json.loads(json_response.text)['predictions']))\n",
    "    print(out)"
   ]
  },
  {
   "cell_type": "code",
   "execution_count": null,
   "metadata": {},
   "outputs": [],
   "source": []
  },
  {
   "cell_type": "code",
   "execution_count": 36,
   "metadata": {},
   "outputs": [],
   "source": [
    "# docker compose"
   ]
  },
  {
   "cell_type": "code",
   "execution_count": 34,
   "metadata": {},
   "outputs": [
    {
     "name": "stdout",
     "output_type": "stream",
     "text": [
      "curl: (7) Failed to connect to localhost port 5001: Connection refused\n",
      "CPU times: user 3.5 ms, sys: 28.1 ms, total: 31.6 ms\n",
      "Wall time: 149 ms\n"
     ]
    }
   ],
   "source": [
    "%%time\n",
    "!curl localhost:5001/predict"
   ]
  },
  {
   "cell_type": "code",
   "execution_count": null,
   "metadata": {},
   "outputs": [],
   "source": []
  }
 ],
 "metadata": {
  "kernelspec": {
   "display_name": "jbs",
   "language": "python",
   "name": "jbs"
  },
  "language_info": {
   "codemirror_mode": {
    "name": "ipython",
    "version": 3
   },
   "file_extension": ".py",
   "mimetype": "text/x-python",
   "name": "python",
   "nbconvert_exporter": "python",
   "pygments_lexer": "ipython3",
   "version": "3.6.9"
  }
 },
 "nbformat": 4,
 "nbformat_minor": 4
}
